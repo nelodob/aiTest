{
 "cells": [
  {
   "cell_type": "markdown",
   "metadata": {},
   "source": [
    "# Predicting Bitcoin Prices using twitter sentiment  and time series data\n",
    "\n",
    "In this project we are going to predict the prices of Bitcoin using deep learning. We will use two type of data. One will be simple numerci data as we did in our last project. Other will be sentiments from twitter tweets. As we know that not only numeric data can drive prices but the human speculation also can drive the prices. So we will combine them both and will see how the overall model perfomrms."
   ]
  },
  {
   "cell_type": "code",
   "execution_count": 1,
   "metadata": {
    "collapsed": true
   },
   "outputs": [],
   "source": [
    "from math import sqrt\n",
    "from numpy import concatenate\n",
    "from matplotlib import pyplot\n",
    "import pandas as pd\n",
    "from datetime import datetime\n",
    "from sklearn.preprocessing import MinMaxScaler\n",
    "from sklearn.preprocessing import LabelEncoder\n",
    "from sklearn.metrics import mean_squared_error\n",
    "import time\n",
    "import numpy as np\n",
    "import datetime"
   ]
  },
  {
   "cell_type": "code",
   "execution_count": 2,
   "metadata": {},
   "outputs": [
    {
     "data": {
      "text/plain": [
       "Timestamp('2018-02-27 00:00:00')"
      ]
     },
     "execution_count": 2,
     "metadata": {},
     "output_type": "execute_result"
    }
   ],
   "source": [
    "data=pd.read_csv('sentiment_full.csv')\n",
    "#df['Date']=pd.to_datetime(['Date'],format=\"[datetime.date(%Y,%m,%d)]\")\n",
    "#print(df['Date'][1])\n",
    "i = data['Date'].astype(str)\\\n",
    "      .str.findall('\\d+')\\\n",
    "      .str.join('/')\n",
    "data['Date'] = pd.to_datetime(i, errors='coerce')\n",
    "data['Date'][1]"
   ]
  },
  {
   "cell_type": "markdown",
   "metadata": {},
   "source": [
    "We will fetch bitcoin data from coinmarkte cap website as we did in our last work. The official site is here https://coinmarketcap.com/currencies/bitcoin/ ."
   ]
  },
  {
   "cell_type": "code",
   "execution_count": 3,
   "metadata": {},
   "outputs": [
    {
     "data": {
      "text/html": [
       "<div>\n",
       "<style>\n",
       "    .dataframe thead tr:only-child th {\n",
       "        text-align: right;\n",
       "    }\n",
       "\n",
       "    .dataframe thead th {\n",
       "        text-align: left;\n",
       "    }\n",
       "\n",
       "    .dataframe tbody tr th {\n",
       "        vertical-align: top;\n",
       "    }\n",
       "</style>\n",
       "<table border=\"1\" class=\"dataframe\">\n",
       "  <thead>\n",
       "    <tr style=\"text-align: right;\">\n",
       "      <th></th>\n",
       "      <th>Date</th>\n",
       "      <th>Close</th>\n",
       "      <th>Open</th>\n",
       "      <th>High</th>\n",
       "      <th>Low</th>\n",
       "      <th>Volume</th>\n",
       "      <th>Market Cap</th>\n",
       "    </tr>\n",
       "  </thead>\n",
       "  <tbody>\n",
       "    <tr>\n",
       "      <th>0</th>\n",
       "      <td>2018-03-14</td>\n",
       "      <td>8269.81</td>\n",
       "      <td>9214.65</td>\n",
       "      <td>9355.85</td>\n",
       "      <td>8068.59</td>\n",
       "      <td>6438230000</td>\n",
       "      <td>155891000000</td>\n",
       "    </tr>\n",
       "    <tr>\n",
       "      <th>1</th>\n",
       "      <td>2018-03-13</td>\n",
       "      <td>9194.85</td>\n",
       "      <td>9173.04</td>\n",
       "      <td>9470.38</td>\n",
       "      <td>8958.19</td>\n",
       "      <td>5991140000</td>\n",
       "      <td>155168000000</td>\n",
       "    </tr>\n",
       "    <tr>\n",
       "      <th>2</th>\n",
       "      <td>2018-03-12</td>\n",
       "      <td>9205.12</td>\n",
       "      <td>9602.93</td>\n",
       "      <td>9937.50</td>\n",
       "      <td>8956.43</td>\n",
       "      <td>6457400000</td>\n",
       "      <td>162421000000</td>\n",
       "    </tr>\n",
       "    <tr>\n",
       "      <th>3</th>\n",
       "      <td>2018-03-11</td>\n",
       "      <td>9578.63</td>\n",
       "      <td>8852.78</td>\n",
       "      <td>9711.89</td>\n",
       "      <td>8607.12</td>\n",
       "      <td>6296370000</td>\n",
       "      <td>149716000000</td>\n",
       "    </tr>\n",
       "    <tr>\n",
       "      <th>4</th>\n",
       "      <td>2018-03-10</td>\n",
       "      <td>8866.00</td>\n",
       "      <td>9350.59</td>\n",
       "      <td>9531.32</td>\n",
       "      <td>8828.47</td>\n",
       "      <td>5386320000</td>\n",
       "      <td>158119000000</td>\n",
       "    </tr>\n",
       "  </tbody>\n",
       "</table>\n",
       "</div>"
      ],
      "text/plain": [
       "        Date    Close     Open     High      Low      Volume    Market Cap\n",
       "0 2018-03-14  8269.81  9214.65  9355.85  8068.59  6438230000  155891000000\n",
       "1 2018-03-13  9194.85  9173.04  9470.38  8958.19  5991140000  155168000000\n",
       "2 2018-03-12  9205.12  9602.93  9937.50  8956.43  6457400000  162421000000\n",
       "3 2018-03-11  9578.63  8852.78  9711.89  8607.12  6296370000  149716000000\n",
       "4 2018-03-10  8866.00  9350.59  9531.32  8828.47  5386320000  158119000000"
      ]
     },
     "execution_count": 3,
     "metadata": {},
     "output_type": "execute_result"
    }
   ],
   "source": [
    "# get market info for bitcoin from the start of 2016 to the current day\n",
    "bitcoin_market_info = pd.read_html(\"https://coinmarketcap.com/currencies/bitcoin/historical-data/?start=20130428&end=\"+time.strftime(\"%Y%m%d\"))[0]\n",
    "# convert the date string to the correct date format\n",
    "bitcoin_market_info = bitcoin_market_info.assign(Date=pd.to_datetime(bitcoin_market_info['Date']))\n",
    "# when Volume is equal to '-' convert it to 0\n",
    "bitcoin_market_info.loc[bitcoin_market_info['Volume']==\"-\",'Volume']=0\n",
    "# convert to int\n",
    "bitcoin_market_info['Volume'] = bitcoin_market_info['Volume'].astype('int64')\n",
    "# look at the first few rows\n",
    "bitcoin_market_info=bitcoin_market_info[['Date','Close','Open','High','Low','Volume','Market Cap']]\n",
    "#bitcoin_market_info.rename(columns={\"Date\":\"Time\"},inplace=True)\n",
    "bitcoin_market_info.head()"
   ]
  },
  {
   "cell_type": "markdown",
   "metadata": {},
   "source": [
    "We also have twitter data fetched using twitter API. We have analyzed the sentiments using textblob library. All the files are on Github repository so you can clone them and use them as per your need. "
   ]
  },
  {
   "cell_type": "markdown",
   "metadata": {},
   "source": [
    "We are loading the previously separately trained models on numeric data and sentiment data. We will see how they alone performs on making predictions and then we will combine them for better performance. "
   ]
  },
  {
   "cell_type": "code",
   "execution_count": 4,
   "metadata": {},
   "outputs": [
    {
     "name": "stderr",
     "output_type": "stream",
     "text": [
      "C:\\Anaconda3\\lib\\site-packages\\h5py\\__init__.py:34: FutureWarning: Conversion of the second argument of issubdtype from `float` to `np.floating` is deprecated. In future, it will be treated as `np.float64 == np.dtype(float).type`.\n",
      "  from ._conv import register_converters as _register_converters\n",
      "Using TensorFlow backend.\n"
     ]
    }
   ],
   "source": [
    "from keras.models import load_model\n",
    "model1 = load_model('close_price_lstm.h5')\n",
    "model2=load_model('sentiment_price.h5')"
   ]
  },
  {
   "cell_type": "markdown",
   "metadata": {},
   "source": [
    "We will use numeric data for making predictions. As the model has been trained on all the data available in the market. It gives us good results.  "
   ]
  },
  {
   "cell_type": "code",
   "execution_count": 5,
   "metadata": {
    "collapsed": true
   },
   "outputs": [],
   "source": [
    "predict_data=np.array([[10725.60,10393.90,10878.50,10246.10,6966180000,175536000000],\n",
    "                      [10366.70,9669.43,10475.00,9501.73,7287690000,163283000000],\n",
    "                      [9664.73,9796.42,9923.22,9407.06,5706940000,165407000000],\n",
    "                      [9813.07,10287.70,10597.20,9546.97,6917930000,173682000000],\n",
    "                      [10301.10,9937.07,10487.30,9734.56,7739500000,167746000000],\n",
    "                      [10005.00,10660.40,11039.10,9939.09,8040080000,179936000000]])\n",
    "scaler = MinMaxScaler(feature_range=(0, 1))\n",
    "a=scaler.fit_transform(predict_data)\n",
    "pre=model1.predict(a.reshape(predict_data.shape[0],1,6))\n",
    "phat=np.concatenate((pre,a[:,1:]),axis=1)\n",
    "#print(phat)\n",
    "predicted=scaler.inverse_transform(phat)\n",
    "#print(predicted)"
   ]
  },
  {
   "cell_type": "code",
   "execution_count": 6,
   "metadata": {
    "scrolled": false
   },
   "outputs": [
    {
     "name": "stdout",
     "output_type": "stream",
     "text": [
      "        Date  real_close  predicted_close  Difference  Percentage_change\n",
      "0 2018-02-28    10397.90     10491.695183   93.795183           0.893995\n",
      "1 2018-02-27    10725.60      9997.942656  727.657344           7.278071\n",
      "2 2018-02-26    10366.70      9703.386253  663.313747           6.835900\n",
      "3 2018-02-25     9664.73     10050.264651  385.534651           3.836065\n",
      "4 2018-02-24     9813.07     10110.501936  297.431936           2.941812\n",
      "5 2018-02-23    10301.10     10349.661903   48.561903           0.469212\n"
     ]
    }
   ],
   "source": [
    "real_close=[10397.90,10725.60,10366.70,9664.73,9813.07,10301.10]\n",
    "predicted_close=[]\n",
    "date=[]\n",
    "difference=[]\n",
    "pr_change=[]\n",
    "date=pd.date_range('02-23-2018','02-28-2018',freq='D').sort_values(ascending=False)\n",
    "#print(date)\n",
    "for i in range(predict_data.shape[0]):\n",
    "    predicted_close.append(predicted[i,0])\n",
    "    difference.append(abs(predicted[i,0]-real_close[i]))\n",
    "    pr_change.append((abs(predicted[i,0]-real_close[i])/predicted[i,0])*100)\n",
    "df=pd.DataFrame({'Date':date})\n",
    "df['real_close']=real_close\n",
    "df['predicted_close']=predicted_close\n",
    "df['Difference']=difference\n",
    "df['Percentage_change']=pr_change\n",
    "print(df)"
   ]
  },
  {
   "cell_type": "markdown",
   "metadata": {},
   "source": [
    "In the above simple predictions we can see that our model is perfomring really well on making predictions for future prices. The simple reason is that the data is highly corelated with each other. Model get lot of information from it to learn the hidden pattern from the data."
   ]
  },
  {
   "cell_type": "markdown",
   "metadata": {},
   "source": [
    "Now we will load the dataframe which has both sentiment scores and numeric data of the close prices of Bitcoin. We will use first 8 rows of the data to make prediction later on."
   ]
  },
  {
   "cell_type": "code",
   "execution_count": 7,
   "metadata": {},
   "outputs": [
    {
     "data": {
      "text/html": [
       "<div>\n",
       "<style>\n",
       "    .dataframe thead tr:only-child th {\n",
       "        text-align: right;\n",
       "    }\n",
       "\n",
       "    .dataframe thead th {\n",
       "        text-align: left;\n",
       "    }\n",
       "\n",
       "    .dataframe tbody tr th {\n",
       "        vertical-align: top;\n",
       "    }\n",
       "</style>\n",
       "<table border=\"1\" class=\"dataframe\">\n",
       "  <thead>\n",
       "    <tr style=\"text-align: right;\">\n",
       "      <th></th>\n",
       "      <th>Date</th>\n",
       "      <th>Close</th>\n",
       "      <th>Open</th>\n",
       "      <th>High</th>\n",
       "      <th>Low</th>\n",
       "      <th>Volume</th>\n",
       "      <th>Market Cap</th>\n",
       "      <th>Sentiment</th>\n",
       "    </tr>\n",
       "  </thead>\n",
       "  <tbody>\n",
       "    <tr>\n",
       "      <th>0</th>\n",
       "      <td>2018-02-28</td>\n",
       "      <td>10397.90</td>\n",
       "      <td>10687.20</td>\n",
       "      <td>11089.80</td>\n",
       "      <td>10393.10</td>\n",
       "      <td>6936190000</td>\n",
       "      <td>180510000000</td>\n",
       "      <td>0.070307</td>\n",
       "    </tr>\n",
       "    <tr>\n",
       "      <th>1</th>\n",
       "      <td>2018-02-27</td>\n",
       "      <td>10725.60</td>\n",
       "      <td>10393.90</td>\n",
       "      <td>10878.50</td>\n",
       "      <td>10246.10</td>\n",
       "      <td>6966180000</td>\n",
       "      <td>175536000000</td>\n",
       "      <td>0.059455</td>\n",
       "    </tr>\n",
       "    <tr>\n",
       "      <th>2</th>\n",
       "      <td>2018-02-26</td>\n",
       "      <td>10366.70</td>\n",
       "      <td>9669.43</td>\n",
       "      <td>10475.00</td>\n",
       "      <td>9501.73</td>\n",
       "      <td>7287690000</td>\n",
       "      <td>163283000000</td>\n",
       "      <td>0.059455</td>\n",
       "    </tr>\n",
       "    <tr>\n",
       "      <th>3</th>\n",
       "      <td>2018-02-25</td>\n",
       "      <td>9664.73</td>\n",
       "      <td>9796.42</td>\n",
       "      <td>9923.22</td>\n",
       "      <td>9407.06</td>\n",
       "      <td>5706940000</td>\n",
       "      <td>165407000000</td>\n",
       "      <td>0.059455</td>\n",
       "    </tr>\n",
       "    <tr>\n",
       "      <th>4</th>\n",
       "      <td>2018-02-24</td>\n",
       "      <td>9813.07</td>\n",
       "      <td>10287.70</td>\n",
       "      <td>10597.20</td>\n",
       "      <td>9546.97</td>\n",
       "      <td>6917930000</td>\n",
       "      <td>173682000000</td>\n",
       "      <td>0.059455</td>\n",
       "    </tr>\n",
       "    <tr>\n",
       "      <th>5</th>\n",
       "      <td>2018-02-23</td>\n",
       "      <td>10301.10</td>\n",
       "      <td>9937.07</td>\n",
       "      <td>10487.30</td>\n",
       "      <td>9734.56</td>\n",
       "      <td>7739500000</td>\n",
       "      <td>167746000000</td>\n",
       "      <td>0.059455</td>\n",
       "    </tr>\n",
       "    <tr>\n",
       "      <th>6</th>\n",
       "      <td>2018-02-22</td>\n",
       "      <td>10005.00</td>\n",
       "      <td>10660.40</td>\n",
       "      <td>11039.10</td>\n",
       "      <td>9939.09</td>\n",
       "      <td>8040080000</td>\n",
       "      <td>179936000000</td>\n",
       "      <td>0.059455</td>\n",
       "    </tr>\n",
       "    <tr>\n",
       "      <th>7</th>\n",
       "      <td>2018-02-21</td>\n",
       "      <td>10690.40</td>\n",
       "      <td>11372.20</td>\n",
       "      <td>11418.50</td>\n",
       "      <td>10479.10</td>\n",
       "      <td>9405340000</td>\n",
       "      <td>191927000000</td>\n",
       "      <td>0.110849</td>\n",
       "    </tr>\n",
       "  </tbody>\n",
       "</table>\n",
       "</div>"
      ],
      "text/plain": [
       "         Date     Close      Open      High       Low      Volume  \\\n",
       "0  2018-02-28  10397.90  10687.20  11089.80  10393.10  6936190000   \n",
       "1  2018-02-27  10725.60  10393.90  10878.50  10246.10  6966180000   \n",
       "2  2018-02-26  10366.70   9669.43  10475.00   9501.73  7287690000   \n",
       "3  2018-02-25   9664.73   9796.42   9923.22   9407.06  5706940000   \n",
       "4  2018-02-24   9813.07  10287.70  10597.20   9546.97  6917930000   \n",
       "5  2018-02-23  10301.10   9937.07  10487.30   9734.56  7739500000   \n",
       "6  2018-02-22  10005.00  10660.40  11039.10   9939.09  8040080000   \n",
       "7  2018-02-21  10690.40  11372.20  11418.50  10479.10  9405340000   \n",
       "\n",
       "     Market Cap  Sentiment  \n",
       "0  180510000000   0.070307  \n",
       "1  175536000000   0.059455  \n",
       "2  163283000000   0.059455  \n",
       "3  165407000000   0.059455  \n",
       "4  173682000000   0.059455  \n",
       "5  167746000000   0.059455  \n",
       "6  179936000000   0.059455  \n",
       "7  191927000000   0.110849  "
      ]
     },
     "execution_count": 7,
     "metadata": {},
     "output_type": "execute_result"
    }
   ],
   "source": [
    "dataframe=pd.read_csv('merged_price_sentiment.csv')\n",
    "dataframe.drop(\"Unnamed: 0\",axis=1,inplace=True)\n",
    "dataframe[:8]"
   ]
  },
  {
   "cell_type": "code",
   "execution_count": 8,
   "metadata": {
    "collapsed": true
   },
   "outputs": [],
   "source": [
    "dataframe.drop(['Date'],inplace=True,axis=1)\n",
    "#print(dataframe.head())\n",
    "scaler = MinMaxScaler(feature_range=(0, 1))\n",
    "scaled = scaler.fit_transform(dataframe)"
   ]
  },
  {
   "cell_type": "code",
   "execution_count": 9,
   "metadata": {
    "collapsed": true
   },
   "outputs": [],
   "source": [
    "columns=dataframe.columns\n",
    "# convert series to supervised learning\n",
    "def series_to_supervised(data, n_in=1, n_out=1, dropnan=True):\n",
    "\t\"\"\"\n",
    "\tFrame a time series as a supervised learning dataset.\n",
    "\tArguments:\n",
    "\t\tdata: Sequence of observations as a list or NumPy array.\n",
    "\t\tn_in: Number of lag observations as input (X).\n",
    "\t\tn_out: Number of observations as output (y).\n",
    "\t\tdropnan: Boolean whether or not to drop rows with NaN values.\n",
    "\tReturns:\n",
    "\t\tPandas DataFrame of series framed for supervised learning.\n",
    "\t\"\"\"\n",
    "\tn_vars = 1 if type(data) is list else data.shape[1]\n",
    "\tdf = pd.DataFrame(data)\n",
    "\tcols, names = list(), list()\n",
    "\t# input sequence (t-n, ... t-1)\n",
    "\tfor i in range(n_in, 0, -1):\n",
    "\t\tcols.append(df.shift(-i))\n",
    "\t\tnames += [(j) for j in columns]\n",
    "\t# forecast sequence (t, t+1, ... t+n)\n",
    "\tfor i in range(0, n_out):\n",
    "\t\tcols.append(df.shift(i))\n",
    "\t\tif i == 0:\n",
    "\t\t\tnames += [(\"output \"+j) for j in columns]\n",
    "\t\telse:\n",
    "\t\t\tnames += [('var%d(t+%d)' % (j+1, i)) for j in range(n_vars)]\n",
    "\t# put it all together\n",
    "\tagg = pd.concat(cols, axis=1)\n",
    "\tagg.columns = names\n",
    "\t# drop rows with NaN values\n",
    "\tif dropnan:\n",
    "\t\tagg.dropna(inplace=True)\n",
    "\treturn agg"
   ]
  },
  {
   "cell_type": "markdown",
   "metadata": {},
   "source": [
    "We have created a function which can convert the simple data into time-series data, where the outpu ot future result is of tommorw's data and the input will be today's data. The fucntion is pretty much simple to use. But before using it we are normalizing the data. As we know that normalizing data is neccessary before feeding the data to AI model. We have used Scikit-Learn to do this preprocessing of data. "
   ]
  },
  {
   "cell_type": "code",
   "execution_count": 10,
   "metadata": {},
   "outputs": [
    {
     "name": "stdout",
     "output_type": "stream",
     "text": [
      "      Close      Open      High       Low    Volume  Market Cap  Sentiment  \\\n",
      "0  0.541059  0.524411  0.532558  0.530614  0.291347    0.529903   0.178618   \n",
      "1  0.522282  0.486473  0.512080  0.490582  0.304849    0.491656   0.178618   \n",
      "2  0.485554  0.493123  0.484077  0.485491  0.238465    0.498286   0.178618   \n",
      "3  0.493316  0.518850  0.518282  0.493015  0.289321    0.524116   0.178618   \n",
      "4  0.518849  0.500488  0.512704  0.503104  0.323822    0.505587   0.178618   \n",
      "\n",
      "   output Close  \n",
      "0      0.523914  \n",
      "1      0.541059  \n",
      "2      0.522282  \n",
      "3      0.485554  \n",
      "4      0.493316  \n"
     ]
    }
   ],
   "source": [
    "reframed = series_to_supervised(scaled, 1, 1)\n",
    "#print(dataframe.shape)\n",
    "reframed.drop(reframed.columns[[8,9,10,11,12,13]], axis=1, inplace=True)\n",
    "print(reframed.head())"
   ]
  },
  {
   "cell_type": "markdown",
   "metadata": {},
   "source": [
    "Now we have to reshape the data. As LSTM model,which we are going to build in next step only accepts input with 3-D shape. We are using numpy to do that. Below you can see the code of it and shape of the data also."
   ]
  },
  {
   "cell_type": "code",
   "execution_count": 11,
   "metadata": {},
   "outputs": [
    {
     "name": "stdout",
     "output_type": "stream",
     "text": [
      "(541, 1, 7) (541,) (197, 1, 7) (197,)\n"
     ]
    }
   ],
   "source": [
    "values=reframed.values\n",
    "train = values[9:550, :]\n",
    "test = values[550:, :]\n",
    "# split into input and outputs\n",
    "train_X, train_y = train[:, :-1], train[:, -1]\n",
    "test_X, test_y = test[:, :-1], test[:, -1]\n",
    "# reshape input to be 3D [samples, timesteps, features]\n",
    "train_X = train_X.reshape((train_X.shape[0], 1, train_X.shape[1]))\n",
    "test_X = test_X.reshape((test_X.shape[0], 1, test_X.shape[1]))\n",
    "print(train_X.shape, train_y.shape, test_X.shape, test_y.shape)"
   ]
  },
  {
   "cell_type": "markdown",
   "metadata": {},
   "source": [
    "Now as we have data and it is reshaped as well as well normalized we can feed it to LSTM model for training and future predictions. To create model we are using Keras framework as it is most easy to use and very much user friednly. Below is the code to create simple LSTM model in keras. Our model has 80 neurons and finally only one output unit as we just want to predict the prices. "
   ]
  },
  {
   "cell_type": "code",
   "execution_count": 12,
   "metadata": {},
   "outputs": [
    {
     "name": "stdout",
     "output_type": "stream",
     "text": [
      "Train on 541 samples, validate on 197 samples\n",
      "Epoch 1/50\n",
      " - 1s - loss: 0.1806 - val_loss: 0.0552\n",
      "Epoch 2/50\n",
      " - 0s - loss: 0.1369 - val_loss: 0.0571\n",
      "Epoch 3/50\n",
      " - 0s - loss: 0.1071 - val_loss: 0.0485\n",
      "Epoch 4/50\n",
      " - 0s - loss: 0.0759 - val_loss: 0.0302\n",
      "Epoch 5/50\n",
      " - 0s - loss: 0.0431 - val_loss: 0.0075\n",
      "Epoch 6/50\n",
      " - 0s - loss: 0.0201 - val_loss: 0.0073\n",
      "Epoch 7/50\n",
      " - 0s - loss: 0.0214 - val_loss: 0.0073\n",
      "Epoch 8/50\n",
      " - 0s - loss: 0.0160 - val_loss: 0.0024\n",
      "Epoch 9/50\n",
      " - 0s - loss: 0.0160 - val_loss: 0.0021\n",
      "Epoch 10/50\n",
      " - 0s - loss: 0.0151 - val_loss: 0.0017\n",
      "Epoch 11/50\n",
      " - 0s - loss: 0.0147 - val_loss: 0.0014\n",
      "Epoch 12/50\n",
      " - 0s - loss: 0.0134 - val_loss: 0.0014\n",
      "Epoch 13/50\n",
      " - 0s - loss: 0.0130 - val_loss: 0.0013\n",
      "Epoch 14/50\n",
      " - 0s - loss: 0.0141 - val_loss: 0.0050\n",
      "Epoch 15/50\n",
      " - 0s - loss: 0.0138 - val_loss: 0.0023\n",
      "Epoch 16/50\n",
      " - 0s - loss: 0.0133 - val_loss: 0.0013\n",
      "Epoch 17/50\n",
      " - 0s - loss: 0.0123 - val_loss: 0.0013\n",
      "Epoch 18/50\n",
      " - 0s - loss: 0.0118 - val_loss: 6.4864e-04\n",
      "Epoch 19/50\n",
      " - 0s - loss: 0.0121 - val_loss: 0.0018\n",
      "Epoch 20/50\n",
      " - 0s - loss: 0.0125 - val_loss: 6.3058e-04\n",
      "Epoch 21/50\n",
      " - 0s - loss: 0.0124 - val_loss: 0.0018\n",
      "Epoch 22/50\n",
      " - 0s - loss: 0.0120 - val_loss: 0.0027\n",
      "Epoch 23/50\n",
      " - 0s - loss: 0.0137 - val_loss: 0.0014\n",
      "Epoch 24/50\n",
      " - 0s - loss: 0.0120 - val_loss: 0.0014\n",
      "Epoch 25/50\n",
      " - 0s - loss: 0.0130 - val_loss: 0.0014\n",
      "Epoch 26/50\n",
      " - 0s - loss: 0.0123 - val_loss: 8.7945e-04\n",
      "Epoch 27/50\n",
      " - 0s - loss: 0.0136 - val_loss: 0.0032\n",
      "Epoch 28/50\n",
      " - 0s - loss: 0.0124 - val_loss: 0.0022\n",
      "Epoch 29/50\n",
      " - 0s - loss: 0.0121 - val_loss: 0.0012\n",
      "Epoch 30/50\n",
      " - 0s - loss: 0.0123 - val_loss: 9.5897e-04\n",
      "Epoch 31/50\n",
      " - 0s - loss: 0.0126 - val_loss: 0.0014\n",
      "Epoch 32/50\n",
      " - 0s - loss: 0.0138 - val_loss: 0.0034\n",
      "Epoch 33/50\n",
      " - 0s - loss: 0.0120 - val_loss: 0.0014\n",
      "Epoch 34/50\n",
      " - 0s - loss: 0.0117 - val_loss: 0.0013\n",
      "Epoch 35/50\n",
      " - 0s - loss: 0.0122 - val_loss: 9.4299e-04\n",
      "Epoch 36/50\n",
      " - 0s - loss: 0.0132 - val_loss: 0.0027\n",
      "Epoch 37/50\n",
      " - 0s - loss: 0.0129 - val_loss: 0.0014\n",
      "Epoch 38/50\n",
      " - 0s - loss: 0.0121 - val_loss: 0.0013\n",
      "Epoch 39/50\n",
      " - 0s - loss: 0.0142 - val_loss: 0.0033\n",
      "Epoch 40/50\n",
      " - 0s - loss: 0.0126 - val_loss: 0.0034\n",
      "Epoch 41/50\n",
      " - 0s - loss: 0.0119 - val_loss: 0.0011\n",
      "Epoch 42/50\n",
      " - 0s - loss: 0.0131 - val_loss: 0.0014\n",
      "Epoch 43/50\n",
      " - 0s - loss: 0.0133 - val_loss: 8.5926e-04\n",
      "Epoch 44/50\n",
      " - 0s - loss: 0.0124 - val_loss: 9.3961e-04\n",
      "Epoch 45/50\n",
      " - 0s - loss: 0.0164 - val_loss: 0.0026\n",
      "Epoch 46/50\n",
      " - 0s - loss: 0.0122 - val_loss: 7.1801e-04\n",
      "Epoch 47/50\n",
      " - 0s - loss: 0.0120 - val_loss: 0.0020\n",
      "Epoch 48/50\n",
      " - 0s - loss: 0.0117 - val_loss: 0.0021\n",
      "Epoch 49/50\n",
      " - 0s - loss: 0.0156 - val_loss: 0.0038\n",
      "Epoch 50/50\n",
      " - 0s - loss: 0.0123 - val_loss: 0.0022\n"
     ]
    },
    {
     "data": {
      "image/png": "[encoded data removed]",
      "text/plain": [
       "<matplotlib.figure.Figure at 0x21dc8e26978>"
      ]
     },
     "metadata": {},
     "output_type": "display_data"
    }
   ],
   "source": [
    "from keras.models import Sequential\n",
    "from keras.layers import Dense\n",
    "from keras.layers import LSTM\n",
    "from keras.layers import Activation, Dense\n",
    "# design network\n",
    "model = Sequential()\n",
    "model.add(LSTM(80, input_shape=(train_X.shape[1], train_X.shape[2])))\n",
    "model.add(Dense(1))\n",
    "model.compile(loss='mean_absolute_error', optimizer='adam')\n",
    "history = model.fit(train_X, train_y, epochs=50, batch_size=32, validation_data=(test_X, test_y), verbose=2, shuffle=False)\n",
    "# plot history\n",
    "pyplot.plot(history.history['loss'], label='train_loss')\n",
    "pyplot.plot(history.history['val_loss'], label='test_loss')\n",
    "pyplot.legend()\n",
    "pyplot.show()"
   ]
  },
  {
   "cell_type": "markdown",
   "metadata": {},
   "source": [
    "In the above plot we can see the errors getting close to each other and close to zero also. This shows that our model is converging well and the loss fucntion is being reduced over the time. As we can see that the model get saturated in terms of reducing the cost after 10 epochs. So training it for more epochs is not useful to as now. We can stop before that but just to see how we are performing over longer run we are running it for 50 epochs. "
   ]
  },
  {
   "cell_type": "markdown",
   "metadata": {},
   "source": [
    "Now let's see how model performs on testing dataset. We are using mean square error to test the model predictions on test data. We should have nice small floating number to give us idea that how our model has performed. "
   ]
  },
  {
   "cell_type": "code",
   "execution_count": 13,
   "metadata": {},
   "outputs": [
    {
     "name": "stdout",
     "output_type": "stream",
     "text": [
      "Test RMSE: 45.785\n"
     ]
    }
   ],
   "source": [
    "# make a prediction\n",
    "yhat = model.predict(test_X)\n",
    "test_X = test_X.reshape((test_X.shape[0], test_X.shape[2]))\n",
    "# invert scaling for forecast\n",
    "inv_yhat = np.concatenate((yhat, test_X[:, 1:]), axis=1)\n",
    "inv_yhat = scaler.inverse_transform(inv_yhat)\n",
    "inv_yhat = inv_yhat[:,0]\n",
    "# invert scaling for actual\n",
    "test_y = test_y.reshape((len(test_y), 1))\n",
    "inv_y = np.concatenate((test_y, test_X[:, 1:]), axis=1)\n",
    "inv_y = scaler.inverse_transform(inv_y)\n",
    "inv_y = inv_y[:,0]\n",
    "# calculate RMSE\n",
    "rmse =sqrt(mean_squared_error(inv_y, inv_yhat))\n",
    "print('Test RMSE: %.3f' % rmse)"
   ]
  },
  {
   "cell_type": "code",
   "execution_count": 14,
   "metadata": {
    "collapsed": true
   },
   "outputs": [],
   "source": [
    "predict_data=np.array([[10725.60,10393.90,10878.50,10246.10,6966180000,175536000000,0.059455],\n",
    "                      [10366.70,9669.43,10475.00,9501.73,7287690000,163283000000,0.059455],\n",
    "                      [9664.73,9796.42,9923.22,9407.06,5706940000,165407000000,0.059455],\n",
    "                      [9813.07,10287.70,10597.20,9546.97,6917930000,173682000000,0.059455],\n",
    "                      [10301.10,9937.07,10487.30,9734.56,7739500000,167746000000,0.059455],\n",
    "                      [10005.00,10660.40,11039.10,9939.09,8040080000,179936000000,0.059455]])\n",
    "#print(predict_data.shape)\n",
    "c=scaler.fit_transform(predict_data)\n",
    "pre=model.predict(c.reshape(predict_data.shape[0],1,predict_data.shape[1]))\n",
    "phat=np.concatenate((pre,c[:,1:]),axis=1)\n",
    "#print(phat)\n",
    "predicted=scaler.inverse_transform(phat)\n",
    "#print(predicted)"
   ]
  },
  {
   "cell_type": "code",
   "execution_count": 15,
   "metadata": {
    "scrolled": true
   },
   "outputs": [
    {
     "name": "stdout",
     "output_type": "stream",
     "text": [
      "        Date  Real_close  Predicted_close\n",
      "0 2018-02-28    10397.90     10575.508335\n",
      "1 2018-02-27    10725.60      9968.105953\n",
      "2 2018-02-26    10366.70      9713.071282\n",
      "3 2018-02-25     9664.73     10096.263305\n",
      "4 2018-02-24     9813.07     10128.082514\n",
      "5 2018-02-23    10301.10     10457.213716\n"
     ]
    }
   ],
   "source": [
    "real_close=[10397.90,10725.60,10366.70,9664.73,9813.07,10301.10]\n",
    "predicted_close=[]\n",
    "date=[]\n",
    "difference=[]\n",
    "pr_change=[]\n",
    "date=pd.date_range('2-23-2018','2-28-2018',freq='D').sort_values(ascending=False)\n",
    "#print(date)\n",
    "for i in range(predicted.shape[0]):\n",
    "    predicted_close.append(predicted[i,0])\n",
    "    difference.append(abs(predicted[i,0]-real_close[i]))\n",
    "    pr_change.append((abs(predicted[i,0]-real_close[i])/predicted[i,0])*100)\n",
    "#print(date)\n",
    "df2=pd.DataFrame({'Date':date})\n",
    "#print(len(df2))\n",
    "df2['Real_close']=real_close\n",
    "df2['Predicted_close']=predicted_close\n",
    "#df2['Difference']=difference\n",
    "#df2['Percentage_change']=pr_change\n",
    "print(df2)"
   ]
  },
  {
   "cell_type": "markdown",
   "metadata": {},
   "source": [
    "The above predictions are made by our LSTM model which is trained on numeric as well as sentiment score. If we see its performance then it is good. Not much improved but not bad also. We can imrpove upon it by using ensembling methods. But for that we should have large data which is quite not possible as Bitcoins are just for 7 years in market. Also geting tweets from twitter API is not free if you want to have data for long time like years or so. So we have this nice simple LSTM model which can predict the prices of Bitcoin close to the original one. "
   ]
  },
  {
   "cell_type": "code",
   "execution_count": 16,
   "metadata": {},
   "outputs": [
    {
     "name": "stdout",
     "output_type": "stream",
     "text": [
      "        Date  Real Close  Model_numeric_data  Model_numeric _data+Sentiments\n",
      "0 2018-02-28    10397.90        10491.695183                    10575.508335\n",
      "1 2018-02-27    10725.60         9997.942656                     9968.105953\n",
      "2 2018-02-26    10366.70         9703.386253                     9713.071282\n",
      "3 2018-02-25     9664.73        10050.264651                    10096.263305\n",
      "4 2018-02-24     9813.07        10110.501936                    10128.082514\n",
      "5 2018-02-23    10301.10        10349.661903                    10457.213716\n"
     ]
    }
   ],
   "source": [
    "combined=df.merge(df2,on='Date',how='inner')\n",
    "combined.rename(columns={'real_close':'Real Close','predicted_close':'Model_numeric_data',\n",
    "                        'Predicted_close':'Model_numeric _data+Sentiments'},inplace=True)\n",
    "combined.drop(['Real_close','Difference','Percentage_change'],inplace=True,axis=1)\n",
    "print(combined)"
   ]
  },
  {
   "cell_type": "markdown",
   "metadata": {},
   "source": [
    "In the above comparision we can see the real close prices, predicted prices only with numeric data and predicted prices with sentiment socre and numeric data. The prices are not much different. They are almost the same as expected. "
   ]
  }
 ],
 "metadata": {
  "kernelspec": {
   "display_name": "Python 3",
   "language": "python",
   "name": "python3"
  },
  "language_info": {
   "codemirror_mode": {
    "name": "ipython",
    "version": 3
   },
   "file_extension": ".py",
   "mimetype": "text/x-python",
   "name": "python",
   "nbconvert_exporter": "python",
   "pygments_lexer": "ipython3",
   "version": "3.6.2"
  }
 },
 "nbformat": 4,
 "nbformat_minor": 2
}
